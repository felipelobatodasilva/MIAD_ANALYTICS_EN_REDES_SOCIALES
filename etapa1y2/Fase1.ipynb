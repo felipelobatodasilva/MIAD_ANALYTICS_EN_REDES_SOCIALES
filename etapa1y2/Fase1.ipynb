{
 "cells": [
  {
   "cell_type": "markdown",
   "metadata": {},
   "source": [
    "# PROYECTO DE REDES SOCIALES-GRUPO19"
   ]
  },
  {
   "cell_type": "markdown",
   "metadata": {},
   "source": [
    "## FASE1\n",
    "Para la fase inicial del análisis en Gephi, donde el objetivo es identificar actores relevantes de la red usando medidas de centralidad y transitividad se toma la decisión de no incluir ningún atributo, en los siguientes pasos del proyecto se hará la selección de atributos relevantes para la red de inversionistas.\n",
    "Adicionalmente el atributo de identidad \"Id\" del archivo nodos y para el archivo de arcos \"Source\" y \"Target\" se estandarizara para facilitar la conexion con los arcos."
   ]
  },
  {
   "cell_type": "code",
   "execution_count": 22,
   "metadata": {},
   "outputs": [],
   "source": [
    "import pandas as pd\n",
    "import re\n",
    "\n",
    "# Definir la función de limpieza de texto\n",
    "def clean_text(text):\n",
    "    if isinstance(text, str):\n",
    "        text = text.upper()  # Convertir a mayúsculas\n",
    "        text = re.sub(r\"[^A-Z0-9, ]\", \"\", text)  # Eliminar caracteres especiales excepto comas y espacios\n",
    "        text = re.sub(r\"\\s+\", \" \", text).strip()  # Eliminar espacios extra\n",
    "    return text\n",
    "\n",
    "# Cargando el archivo de Excel\n",
    "archivo_path_nodos = \"Nodos-original.xlsx\"\n",
    "archivo_path_arcos = \"Arcos-original.xlsx\"\n",
    "df_nodos = pd.read_excel(archivo_path_nodos)\n",
    "df_arcos = pd.read_excel(archivo_path_arcos)\n",
    "\n",
    "# Aplicar la función clean_text al campo 'Id' de nodos y campos \"Source y Target\" de Arcos\n",
    "df_nodos[\"Id\"] = df_nodos[\"Id\"].astype(str).apply(clean_text)\n",
    "df_nodos.rename(columns={\"Id\": \"Label\"}, inplace=True) # Se cambia el nombre del id a label para que lo lea gephi\n",
    "df_nodos2=df_nodos['Label']\n",
    "df_arcos[\"Source\"] = df_arcos[\"Source\"].astype(str).apply(clean_text)\n",
    "df_arcos[\"Target\"] = df_arcos[\"Target\"].astype(str).apply(clean_text)\n",
    "df_arcos[\"Type\"] ='directed' # Directed porque es una relación de inversión\n",
    "\n",
    "#Descargar archivo para etapa1\n",
    "df_nodos2.to_csv(\"nodos.csv\",index=False)\n",
    "df_arcos.to_csv(\"arcos.csv\",index=False)"
   ]
  },
  {
   "cell_type": "markdown",
   "metadata": {},
   "source": [
    "## FASE2\n",
    "En esta fase ustedes actuarán bajo el rol de un fondo inversionista que busca comprender el comportamiento inversionista de diferentes organizaciones para mejorar la forma en la cual dispone de sus recursos en diferentes inversiones. En particular, el fondo quiere comprender cuáles son los atributos individuales de las organizaciones que son relevantes en la formación de relaciones de inversión. Para esto, se espera que implementen algoritmos de detección de comunidades y desarrollen un análisis descriptivo de los atributos de los nodos dentro y entre comunidades.Se debe entregar un notebook donde:\n",
    "1. Se realice un análisis de los atributos en común entre los nodos de las comunidades. Para esto, se espera que se utilicen los algoritmos de detección de comunidades que se consideren pertinentes.\n",
    "2. Se concluya al respecto para cada algoritmo seleccionado.\n",
    "3. Se presente una recomendación en el contexto del problema desde el rol de una organización que busca financiación."
   ]
  },
  {
   "cell_type": "markdown",
   "metadata": {},
   "source": [
    "\n",
    "Es clave seleccionar atributos que permitan detectar nodos influyentes y estructuras de conexión, por lo que se propone en una primera fase seleccionar los siguientes campos:Headquarters Location, Number of Investments, Number of Lead Investments,Number of Diversity Investments, Number of Exits, Number of Lead Investors,Number of Investors, Number of Funding Rounds, Total Funding Amount Currency (in USD)\n",
    "\n",
    "Los Posibles atributos seran homologados a:\n",
    "\n",
    "| Nombre original                                 | Homologación en español                |\n",
    "|------------------------------------------------|----------------------------------------|\n",
    "| Headquarters Location                          | Ubicación de la empresa               |\n",
    "| Number of Investments                          | Número de inversiones                 |\n",
    "| Number of Lead Investments                     | Número de inversiones como líder      |\n",
    "| Number of Diversity Investments                | Número de inversiones diversificadas  |\n",
    "| Number of Exits                                | Número de salidas a bolsa             |\n",
    "| Number of Lead Investors                       | Número de inversionistas principales  |\n",
    "| Number of Investors                            | Número de inversionistas              |\n",
    "| Number of Funding Rounds                       | Número de rondas de financiación      |\n",
    "| Total Funding Amount Currency (in USD)         | Monto total de financiación (USD)     |\n",
    "| Industries                                     | Industria                             |\n"
   ]
  },
  {
   "cell_type": "code",
   "execution_count": null,
   "metadata": {},
   "outputs": [],
   "source": [
    "# Diccionario con los nombres nuevos\n",
    "nombres_columnas = {\n",
    "    \"Headquarters Location\": \"Ubicación de la empresa\",\n",
    "    \"Number of Investments\": \"Número de inversiones\",\n",
    "    \"Number of Lead Investments\": \"Número de inversiones como líder\",\n",
    "    \"Number of Diversity Investments\": \"Número de inversiones diversificadas\",\n",
    "    \"Number of Exits\": \"Número de salidas a bolsa\",\n",
    "    \"Number of Lead Investors\": \"Número de inversionistas principales\",\n",
    "    \"Number of Investors\": \"Número de inversionistas\",\n",
    "    \"Number of Funding Rounds\": \"Número de rondas de financiación\",\n",
    "    \"Total Funding Amount Currency (in USD)\": \"Monto total de financiación (USD)\",\n",
    "    \"Industries\": \"Industria\"\n",
    "}\n",
    "\n",
    "# Seleccionar las columnas candidatas a atributos (excluyendo campos irrelevantes)\n",
    "columnas_candidatas = [\n",
    "    \"Id\",\"Industries\",\"Headquarters Location\", \"Number of Investments\", \"Number of Lead Investments\",\n",
    "    \"Number of Diversity Investments\", \"Number of Exits\", \"Number of Lead Investors\",\n",
    "    \"Number of Investors\", \"Number of Funding Rounds\", \"Total Funding Amount Currency (in USD)\"\n",
    "]\n",
    "#Seleccionando columnas \n",
    "df_nodos2=df_nodos[columnas_candidatas]\n",
    "\n",
    "#Homologacion de campos en el DataFrame\n",
    "df_nodos2.rename(columns=nombres_columnas, inplace=True)\n",
    "\n",
    "# Conteo de valores nulos por columna candidata\n",
    "conteo_nulos = df_nodos2.isnull().sum()\n",
    "\n",
    "# Mostrar el conteo de valores nulos\n",
    "print(\"Conteo de valores nulos por columna candidata:\")\n",
    "print(conteo_nulos)"
   ]
  },
  {
   "cell_type": "markdown",
   "metadata": {},
   "source": [
    "Como estamos en un analisis de redes la informacion no puede ser imputada, por lo que se si encuentran registros vacios en las colunmas se deben eliminar o evaluar si se quiere dejar ese atributo"
   ]
  },
  {
   "cell_type": "code",
   "execution_count": null,
   "metadata": {},
   "outputs": [],
   "source": [
    "# metodo de optimizacion:\n",
    "# Método de Overlapping Communities:\n",
    "# Método dinámico:"
   ]
  }
 ],
 "metadata": {
  "kernelspec": {
   "display_name": "Python 3",
   "language": "python",
   "name": "python3"
  },
  "language_info": {
   "codemirror_mode": {
    "name": "ipython",
    "version": 3
   },
   "file_extension": ".py",
   "mimetype": "text/x-python",
   "name": "python",
   "nbconvert_exporter": "python",
   "pygments_lexer": "ipython3",
   "version": "3.12.3"
  }
 },
 "nbformat": 4,
 "nbformat_minor": 2
}
