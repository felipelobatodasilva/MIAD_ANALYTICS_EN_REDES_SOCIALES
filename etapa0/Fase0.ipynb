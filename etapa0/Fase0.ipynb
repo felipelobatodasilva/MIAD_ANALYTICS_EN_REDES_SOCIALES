{
 "cells": [
  {
   "cell_type": "code",
   "execution_count": null,
   "metadata": {},
   "outputs": [],
   "source": [
    "import pandas as pd\n",
    "import re\n",
    "\n",
    "#Funciones\n",
    "def clean_text(text):\n",
    "    text = text.upper()  # Convertir a mayúsculas\n",
    "    text = re.sub(r\"[^A-Z0-9, ]\", \"\", text)  # Eliminar caracteres especiales excepto comas y espacios\n",
    "    text = re.sub(r\"\\s+\", \" \", text).strip()  # Eliminar espacios extra\n",
    "    return text\n",
    "\n",
    "#NODOS\n",
    "nodos_df = pd.read_excel(\"Base-inicial.xlsx\",sheet_name='base')\n",
    "nodos_df = nodos_df.dropna(subset=[\"Principales inversionistas\",\"Organization Name\"])\n",
    "nodos_data = nodos_df[[\"id\", \"Organization Name\", \"Principales inversionistas\"]].copy()\n",
    "nodos_data[\"Organization Name\"] = nodos_data[\"Organization Name\"].apply(clean_text)\n",
    "nodos_data[\"Principales inversionistas\"] = nodos_data[\"Principales inversionistas\"].apply(clean_text)\n",
    "nodos_data.rename(columns={\"Organization Name\": \"Label\"}, inplace=True)\n",
    "# Guardar el resultado limpio en un nuevo CSV\n",
    "nodos_data.to_csv(\"nodos.csv\", index=False)\n",
    "\n",
    "#ARCOS\n",
    "# Crear el DataFrame de arcos\n",
    "arcos = []\n",
    "for _, row in nodos_data.iterrows():\n",
    "    target = row[\"Label\"]\n",
    "    inversionistas = row[\"Principales inversionistas\"].split(\", \")  # Separar inversionistas\n",
    "    \n",
    "    for investor in inversionistas:\n",
    "        investor = investor.strip()\n",
    "        if investor in nodos_data[\"Label\"].values:  # Solo agrega si el inversor también está en la base\n",
    "            arcos.append([investor, target, \"directed\"])  # Directed porque es una relación de inversión\n",
    "\n",
    "# Convertir a DataFrame\n",
    "df_arcos = pd.DataFrame(arcos, columns=[\"Source\", \"Target\", \"Type\"])\n",
    "\n",
    "# Agregar un ID único para cada arco\n",
    "df_arcos.insert(0, \"Id\", range(1, len(df_arcos) + 1))\n",
    "\n",
    "# Guardar en CSV\n",
    "df_arcos.to_csv(\"arcos.csv\", index=False)"
   ]
  }
 ],
 "metadata": {
  "kernelspec": {
   "display_name": "Python 3",
   "language": "python",
   "name": "python3"
  },
  "language_info": {
   "codemirror_mode": {
    "name": "ipython",
    "version": 3
   },
   "file_extension": ".py",
   "mimetype": "text/x-python",
   "name": "python",
   "nbconvert_exporter": "python",
   "pygments_lexer": "ipython3",
   "version": "3.12.3"
  }
 },
 "nbformat": 4,
 "nbformat_minor": 2
}
